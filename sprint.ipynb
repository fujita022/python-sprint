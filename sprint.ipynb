{
 "cells": [
  {
   "cell_type": "code",
   "execution_count": 2,
   "metadata": {},
   "outputs": [
    {
     "name": "stdout",
     "output_type": "stream",
     "text": [
      "Seja bem-vindo fujita é um prazer ter você com a gente! Estamos muito felizes em saber que a Fórmula E está expandindo e chegou até você!\n",
      "Que tal você contar para a gente qual sua equipe e pilotos favoritos para receber informações exclusivas!?\n",
      "Aqui são as equipes e os pilotos(2023-2024):\n",
      "\n",
      "Equipes\n",
      "['Andretti Autosport', 'DS Penske', 'NIO Formula E Team', 'DS Virgin Racing', 'McLaren', 'Maserati Racing', 'Jaguar Racing', 'Abt Cupra', 'Porsche Team', 'Mahindra Racing', 'Nissan e.dams']\n",
      "\n",
      "\n",
      "Pilotos:\n",
      "['Jake Dennis', 'Stoffel Vandoorne', 'Sergio Camara', 'Robin Frijns', 'Jake Hughes', 'Maximilian Gunther', 'Sam Bird', 'Mitch Evans', 'Lucas di Grassi', 'Antonio Felix da Costa', 'Sébastien Buemi', 'Norman Nato', 'Jehan Daruvala', 'Nyck de Vries', 'Oliver Rowland', 'Sacha Fenestraz', 'Jean-Eric Vergne', 'Dan Ticktum', 'Nick Cassidy', 'Edoardo Mortara', 'Nico Müller', 'Pascal Wehrlein']\n"
     ]
    }
   ],
   "source": [
    "user = input('Digite um nome de usuário para acessar a plataforma: ')\n",
    "print(f'Seja bem-vindo {user} é um prazer ter você com a gente! Estamos muito felizes em saber que a Fórmula E está expandindo e chegou até você!')\n",
    "\n",
    "print('Que tal você contar para a gente qual sua equipe e pilotos favoritos para receber informações exclusivas!?')\n",
    "print('Aqui são as equipes e os pilotos(2023-2024):\\n')\n",
    "\n",
    "equipes = ['Andretti Autosport', 'DS Penske', 'NIO Formula E Team', 'DS Virgin Racing', 'McLaren', 'Maserati Racing','Jaguar Racing','Abt Cupra','Porsche Team','Mahindra Racing','Nissan e.dams']\n",
    "pilotos = ['Jake Dennis','Stoffel Vandoorne','Sergio Camara','Robin Frijns','Jake Hughes','Maximilian Gunther','Sam Bird','Mitch Evans','Lucas di Grassi','Antonio Felix da Costa','Sébastien Buemi','Norman Nato','Jehan Daruvala', 'Nyck de Vries','Oliver Rowland','Sacha Fenestraz','Jean-Eric Vergne','Dan Ticktum','Nick Cassidy','Edoardo Mortara','Nico Müller','Pascal Wehrlein']\n",
    "\n",
    "eAndretti = ['Jake Dennis','Norman Nato',]\n",
    "eDSPenske = ['Stoffel Vandoorne','Jean-Eric Vergne']\n",
    "eNIOformulae = ['Sergio Camara','Dan Ticktum']\n",
    "eDSVirgin = ['Robin Frijns','Sébastien Buemi']\n",
    "eMcLaren = ['Jake Hughes','Sam Bird']\n",
    "eMaserati = ['Maximilian Gunther','Jehan Daruvala']\n",
    "eJaguar = ['Mitch Evans','Nick Cassidy']\n",
    "eAbtCupra = ['Lucas di Grassi','Nico Müller']\n",
    "ePorsche = ['Pascal Wehrlein','Antonio Felix da Costa']\n",
    "\n",
    "print(f'Equipes\\n{equipes}\\n\\nPilotos:\\n{pilotos}')\n",
    "\n",
    "\n"
   ]
  }
 ],
 "metadata": {
  "kernelspec": {
   "display_name": "Python 3",
   "language": "python",
   "name": "python3"
  },
  "language_info": {
   "codemirror_mode": {
    "name": "ipython",
    "version": 3
   },
   "file_extension": ".py",
   "mimetype": "text/x-python",
   "name": "python",
   "nbconvert_exporter": "python",
   "pygments_lexer": "ipython3",
   "version": "3.12.1"
  }
 },
 "nbformat": 4,
 "nbformat_minor": 2
}
